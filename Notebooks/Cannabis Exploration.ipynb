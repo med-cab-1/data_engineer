{
 "cells": [
  {
   "cell_type": "code",
   "execution_count": 1,
   "metadata": {},
   "outputs": [],
   "source": [
    "# IMPORTS\n",
    "import pandas as pd\n",
    "import plotly.express as px"
   ]
  },
  {
   "cell_type": "code",
   "execution_count": 3,
   "metadata": {},
   "outputs": [],
   "source": [
    "# CONSTANTS\n",
    "data_url = '../Data/Cannabis.csv'"
   ]
  },
  {
   "cell_type": "code",
   "execution_count": 4,
   "metadata": {},
   "outputs": [
    {
     "data": {
      "text/plain": [
       "(1644, 8)"
      ]
     },
     "execution_count": 4,
     "metadata": {},
     "output_type": "execute_result"
    }
   ],
   "source": [
    "# Import out data\n",
    "df = pd.read_csv(data_url)\n",
    "df.shape"
   ]
  },
  {
   "cell_type": "code",
   "execution_count": 5,
   "metadata": {},
   "outputs": [
    {
     "data": {
      "text/html": [
       "<div>\n",
       "<style scoped>\n",
       "    .dataframe tbody tr th:only-of-type {\n",
       "        vertical-align: middle;\n",
       "    }\n",
       "\n",
       "    .dataframe tbody tr th {\n",
       "        vertical-align: top;\n",
       "    }\n",
       "\n",
       "    .dataframe thead th {\n",
       "        text-align: right;\n",
       "    }\n",
       "</style>\n",
       "<table border=\"1\" class=\"dataframe\">\n",
       "  <thead>\n",
       "    <tr style=\"text-align: right;\">\n",
       "      <th></th>\n",
       "      <th>strain_id</th>\n",
       "      <th>strain_name</th>\n",
       "      <th>strain_type</th>\n",
       "      <th>strain_rating</th>\n",
       "      <th>effects_profile</th>\n",
       "      <th>flavor_profile</th>\n",
       "      <th>strain_description</th>\n",
       "      <th>strain_profile</th>\n",
       "    </tr>\n",
       "  </thead>\n",
       "  <tbody>\n",
       "    <tr>\n",
       "      <th>0</th>\n",
       "      <td>0</td>\n",
       "      <td>1024</td>\n",
       "      <td>Sativa</td>\n",
       "      <td>4.4</td>\n",
       "      <td>Uplifted,Happy,Relaxed,Energetic,Creative</td>\n",
       "      <td>Spicy/Herbal,Sage,Woody</td>\n",
       "      <td>1024 is a sativa-dominant hybrid bred in Spain...</td>\n",
       "      <td>Sativa,Uplifted,Happy,Relaxed,Energetic,Creati...</td>\n",
       "    </tr>\n",
       "    <tr>\n",
       "      <th>1</th>\n",
       "      <td>1</td>\n",
       "      <td>100 OG</td>\n",
       "      <td>Hybrid</td>\n",
       "      <td>4.0</td>\n",
       "      <td>Creative,Energetic,Tingly,Euphoric,Relaxed</td>\n",
       "      <td>Earthy,Sweet,Citrus</td>\n",
       "      <td>$100 OG is a 50/50 hybrid strain that packs a ...</td>\n",
       "      <td>Hybrid,Creative,Energetic,Tingly,Euphoric,Rela...</td>\n",
       "    </tr>\n",
       "    <tr>\n",
       "      <th>2</th>\n",
       "      <td>2</td>\n",
       "      <td>13 Dawgs</td>\n",
       "      <td>Hybrid</td>\n",
       "      <td>4.2</td>\n",
       "      <td>Tingly,Creative,Hungry,Relaxed,Uplifted</td>\n",
       "      <td>Apricot,Citrus,Grapefruit</td>\n",
       "      <td>13 Dawgs is a hybrid of G13 and Chemdawg genet...</td>\n",
       "      <td>Hybrid,Tingly,Creative,Hungry,Relaxed,Uplifted...</td>\n",
       "    </tr>\n",
       "    <tr>\n",
       "      <th>3</th>\n",
       "      <td>3</td>\n",
       "      <td>24K Gold</td>\n",
       "      <td>Hybrid</td>\n",
       "      <td>4.6</td>\n",
       "      <td>Happy,Relaxed,Euphoric,Uplifted,Talkative</td>\n",
       "      <td>Citrus,Earthy,Orange</td>\n",
       "      <td>Also known as Kosher Tangie, 24k Gold is a 60%...</td>\n",
       "      <td>Hybrid,Happy,Relaxed,Euphoric,Uplifted,Talkati...</td>\n",
       "    </tr>\n",
       "    <tr>\n",
       "      <th>4</th>\n",
       "      <td>4</td>\n",
       "      <td>303 OG</td>\n",
       "      <td>Indica</td>\n",
       "      <td>4.2</td>\n",
       "      <td>Relaxed,Happy,Euphoric,Uplifted,Giggly</td>\n",
       "      <td>Citrus,Pungent,Earthy</td>\n",
       "      <td>The indica-dominant 303 OG is a Colorado strai...</td>\n",
       "      <td>Indica,Relaxed,Happy,Euphoric,Uplifted,Giggly,...</td>\n",
       "    </tr>\n",
       "  </tbody>\n",
       "</table>\n",
       "</div>"
      ],
      "text/plain": [
       "   strain_id strain_name strain_type  strain_rating  \\\n",
       "0          0        1024      Sativa            4.4   \n",
       "1          1      100 OG      Hybrid            4.0   \n",
       "2          2    13 Dawgs      Hybrid            4.2   \n",
       "3          3    24K Gold      Hybrid            4.6   \n",
       "4          4      303 OG      Indica            4.2   \n",
       "\n",
       "                              effects_profile             flavor_profile  \\\n",
       "0   Uplifted,Happy,Relaxed,Energetic,Creative    Spicy/Herbal,Sage,Woody   \n",
       "1  Creative,Energetic,Tingly,Euphoric,Relaxed        Earthy,Sweet,Citrus   \n",
       "2     Tingly,Creative,Hungry,Relaxed,Uplifted  Apricot,Citrus,Grapefruit   \n",
       "3   Happy,Relaxed,Euphoric,Uplifted,Talkative       Citrus,Earthy,Orange   \n",
       "4      Relaxed,Happy,Euphoric,Uplifted,Giggly      Citrus,Pungent,Earthy   \n",
       "\n",
       "                                  strain_description  \\\n",
       "0  1024 is a sativa-dominant hybrid bred in Spain...   \n",
       "1  $100 OG is a 50/50 hybrid strain that packs a ...   \n",
       "2  13 Dawgs is a hybrid of G13 and Chemdawg genet...   \n",
       "3  Also known as Kosher Tangie, 24k Gold is a 60%...   \n",
       "4  The indica-dominant 303 OG is a Colorado strai...   \n",
       "\n",
       "                                      strain_profile  \n",
       "0  Sativa,Uplifted,Happy,Relaxed,Energetic,Creati...  \n",
       "1  Hybrid,Creative,Energetic,Tingly,Euphoric,Rela...  \n",
       "2  Hybrid,Tingly,Creative,Hungry,Relaxed,Uplifted...  \n",
       "3  Hybrid,Happy,Relaxed,Euphoric,Uplifted,Talkati...  \n",
       "4  Indica,Relaxed,Happy,Euphoric,Uplifted,Giggly,...  "
      ]
     },
     "execution_count": 5,
     "metadata": {},
     "output_type": "execute_result"
    }
   ],
   "source": [
    "df.head()"
   ]
  },
  {
   "cell_type": "code",
   "execution_count": 6,
   "metadata": {},
   "outputs": [
    {
     "data": {
      "text/plain": [
       "strain_id               int64\n",
       "strain_name            object\n",
       "strain_type            object\n",
       "strain_rating         float64\n",
       "effects_profile        object\n",
       "flavor_profile         object\n",
       "strain_description     object\n",
       "strain_profile         object\n",
       "dtype: object"
      ]
     },
     "execution_count": 6,
     "metadata": {},
     "output_type": "execute_result"
    }
   ],
   "source": [
    "df.dtypes"
   ]
  },
  {
   "cell_type": "code",
   "execution_count": null,
   "metadata": {},
   "outputs": [],
   "source": []
  }
 ],
 "metadata": {
  "kernelspec": {
   "display_name": "Python 3",
   "language": "python",
   "name": "python3"
  },
  "language_info": {
   "codemirror_mode": {
    "name": "ipython",
    "version": 3
   },
   "file_extension": ".py",
   "mimetype": "text/x-python",
   "name": "python",
   "nbconvert_exporter": "python",
   "pygments_lexer": "ipython3",
   "version": "3.8.5"
  }
 },
 "nbformat": 4,
 "nbformat_minor": 4
}
